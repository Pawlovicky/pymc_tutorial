{
 "cells": [
  {
   "cell_type": "code",
   "execution_count": 1,
   "metadata": {
    "collapsed": false
   },
   "outputs": [],
   "source": [
    "import numpy as np\n",
    "import pymc\n",
    "import matplotlib\n",
    "import mymodel\n",
    "\n",
    "%matplotlib inline\n",
    "\n",
    "import matplotlib\n",
    "import numpy as np\n",
    "import matplotlib.pyplot as plt\n",
    "\n",
    "import seaborn as sns\n",
    "\n",
    "%load_ext autoreload\n",
    "%autoreload 2\n",
    "\n"
   ]
  },
  {
   "cell_type": "code",
   "execution_count": null,
   "metadata": {
    "collapsed": false
   },
   "outputs": [],
   "source": [
    "S = pymc.MCMC(mymodel, db='pickle')\n",
    "S.sample(iter=10000, burn=5000, thin=2)\n",
    "plt = pymc.Matplot.plot(S)"
   ]
  },
  {
   "cell_type": "code",
   "execution_count": null,
   "metadata": {
    "collapsed": false
   },
   "outputs": [],
   "source": [
    "dir(mymodel)"
   ]
  },
  {
   "cell_type": "code",
   "execution_count": 9,
   "metadata": {
    "collapsed": false
   },
   "outputs": [],
   "source": [
    "import disaster_model"
   ]
  },
  {
   "cell_type": "code",
   "execution_count": 5,
   "metadata": {
    "collapsed": false
   },
   "outputs": [
    {
     "data": {
      "text/plain": [
       "(111,)"
      ]
     },
     "execution_count": 5,
     "metadata": {},
     "output_type": "execute_result"
    }
   ],
   "source": [
    "disasters_array.shape"
   ]
  },
  {
   "cell_type": "code",
   "execution_count": 12,
   "metadata": {
    "collapsed": false
   },
   "outputs": [
    {
     "data": {
      "text/plain": [
       "{'mu': <pymc.PyMCObjects.Deterministic 'rate' at 0x7efe4b99a990>}"
      ]
     },
     "execution_count": 12,
     "metadata": {},
     "output_type": "execute_result"
    }
   ],
   "source": [
    "disaster_model.disasters.parents"
   ]
  },
  {
   "cell_type": "code",
   "execution_count": 21,
   "metadata": {
    "collapsed": false
   },
   "outputs": [
    {
     "data": {
      "text/plain": [
       "array(0.0998965521486822)"
      ]
     },
     "execution_count": 21,
     "metadata": {},
     "output_type": "execute_result"
    }
   ],
   "source": [
    "disaster_model.late_mean.value"
   ]
  },
  {
   "cell_type": "code",
   "execution_count": 81,
   "metadata": {
    "collapsed": false
   },
   "outputs": [
    {
     "data": {
      "text/plain": [
       "['AdaptiveMetropolis',\n",
       " 'ArrayContainer',\n",
       " 'Bernoulli',\n",
       " 'Beta',\n",
       " 'Betabin',\n",
       " 'BinaryMetropolis',\n",
       " 'Binomial',\n",
       " 'Categorical',\n",
       " 'Cauchy',\n",
       " 'Chi2',\n",
       " 'CircVonMises',\n",
       " 'CircularStochastic',\n",
       " 'CommonDeterministics',\n",
       " 'CompletedDirichlet',\n",
       " 'Container',\n",
       " 'ContainerBase',\n",
       " 'ContainerMeta',\n",
       " 'ContainerRegistry',\n",
       " 'Container_values',\n",
       " 'Degenerate',\n",
       " 'Deterministic',\n",
       " 'DeterministicBase',\n",
       " 'DeterministicMeta',\n",
       " 'DeterministicRegistry',\n",
       " 'DictContainer',\n",
       " 'Dirichlet',\n",
       " 'DiscreteMetropolis',\n",
       " 'DiscreteUniform',\n",
       " 'DiscreteUninformative',\n",
       " 'DrawFromPrior',\n",
       " 'Exponential',\n",
       " 'Exponweib',\n",
       " 'GOFpoints',\n",
       " 'Gamma',\n",
       " 'Geometric',\n",
       " 'Gibbs',\n",
       " 'HalfCauchy',\n",
       " 'HalfNormal',\n",
       " 'Histogram',\n",
       " 'Hypergeometric',\n",
       " 'Impute',\n",
       " 'ImputeMissing',\n",
       " 'Index',\n",
       " 'InstantiationDecorators',\n",
       " 'InvLogit',\n",
       " 'InverseGamma',\n",
       " 'Lambda',\n",
       " 'Laplace',\n",
       " 'LazyFunction',\n",
       " 'LinearCombination',\n",
       " 'ListContainer',\n",
       " 'Logistic',\n",
       " 'Logit',\n",
       " 'Lognormal',\n",
       " 'MAP',\n",
       " 'MCMC',\n",
       " 'Matplot',\n",
       " 'Metropolis',\n",
       " 'Model',\n",
       " 'Multinomial',\n",
       " 'MultivariateHypergeometric',\n",
       " 'MvNormal',\n",
       " 'MvNormalChol',\n",
       " 'MvNormalCov',\n",
       " 'NegativeBinomial',\n",
       " 'NoStepper',\n",
       " 'Node',\n",
       " 'NoncentralT',\n",
       " 'NormApprox',\n",
       " 'NormApproxC',\n",
       " 'NormApproxMu',\n",
       " 'Normal',\n",
       " 'NormalApproximation',\n",
       " 'NumpyDeterministics',\n",
       " 'ObjectContainer',\n",
       " 'OneOverX',\n",
       " 'PDMatrixMetropolis',\n",
       " 'ParentDict',\n",
       " 'Pareto',\n",
       " 'Poisson',\n",
       " 'Potential',\n",
       " 'PotentialBase',\n",
       " 'PotentialMeta',\n",
       " 'PotentialRegistry',\n",
       " 'PyMCObjects',\n",
       " 'Sampler',\n",
       " 'ScipyDistributions',\n",
       " 'SetContainer',\n",
       " 'SkewNormal',\n",
       " 'Slicer',\n",
       " 'StepMethod',\n",
       " 'StepMethodRegistry',\n",
       " 'StepMethods',\n",
       " 'Stochastic',\n",
       " 'StochasticBase',\n",
       " 'StochasticMeta',\n",
       " 'StochasticRegistry',\n",
       " 'StukelInvLogit',\n",
       " 'StukelLogit',\n",
       " 'T',\n",
       " 'TruncatedNormal',\n",
       " 'TruncatedPareto',\n",
       " 'TruncatedPoisson',\n",
       " 'TupleContainer',\n",
       " 'UnboundMethodType',\n",
       " 'Uniform',\n",
       " 'Uninformative',\n",
       " 'Variable',\n",
       " 'VonMises',\n",
       " 'Weibull',\n",
       " 'Wishart',\n",
       " 'WishartCov',\n",
       " 'WorkRequest',\n",
       " 'ZeroProbability',\n",
       " '__all__',\n",
       " '__builtins__',\n",
       " '__doc__',\n",
       " '__file__',\n",
       " '__name__',\n",
       " '__package__',\n",
       " 'abs',\n",
       " 'absolute_loss',\n",
       " 'all',\n",
       " 'any',\n",
       " 'append',\n",
       " 'arccos',\n",
       " 'arccosh',\n",
       " 'arcsin',\n",
       " 'arcsinh',\n",
       " 'arctan',\n",
       " 'arctan2',\n",
       " 'arctanh',\n",
       " 'arlognormal_like',\n",
       " 'array',\n",
       " 'assign_method',\n",
       " 'availabledistributions',\n",
       " 'bernoulli_expval',\n",
       " 'bernoulli_grad_like',\n",
       " 'bernoulli_like',\n",
       " 'beta_expval',\n",
       " 'beta_grad_like',\n",
       " 'beta_like',\n",
       " 'betabin_expval',\n",
       " 'betabin_grad_like',\n",
       " 'betabin_like',\n",
       " 'bind_size',\n",
       " 'binomial_expval',\n",
       " 'binomial_grad_like',\n",
       " 'binomial_like',\n",
       " 'calc_utils',\n",
       " 'capitalize',\n",
       " 'categorical_like',\n",
       " 'cauchy_expval',\n",
       " 'cauchy_grad_like',\n",
       " 'cauchy_like',\n",
       " 'check_special_methods',\n",
       " 'chi2_expval',\n",
       " 'chi2_grad_like',\n",
       " 'chi2_like',\n",
       " 'chi_square_loss',\n",
       " 'conjugate_Gibbs_competence',\n",
       " 'constrain',\n",
       " 'copy',\n",
       " 'cos',\n",
       " 'cosh',\n",
       " 'data',\n",
       " 'database',\n",
       " 'datatypes',\n",
       " 'debug_wrapper',\n",
       " 'decorators',\n",
       " 'degenerate_expval',\n",
       " 'degenerate_like',\n",
       " 'deterministic',\n",
       " 'dexponential_expval',\n",
       " 'dexponential_grad_like',\n",
       " 'dexponential_like',\n",
       " 'diagnostics',\n",
       " 'dirichlet_expval',\n",
       " 'dirichlet_like',\n",
       " 'disable_special_methods',\n",
       " 'disasters',\n",
       " 'disasters_array',\n",
       " 'discrepancy',\n",
       " 'discrete_uniform_expval',\n",
       " 'discrete_uniform_like',\n",
       " 'dist',\n",
       " 'distributions',\n",
       " 'dtrm',\n",
       " 'early_mean',\n",
       " 'effective_n',\n",
       " 'empty',\n",
       " 'enable_special_methods',\n",
       " 'examples',\n",
       " 'exp',\n",
       " 'expand_triangular',\n",
       " 'expm1',\n",
       " 'exponential_expval',\n",
       " 'exponential_grad_like',\n",
       " 'exponential_like',\n",
       " 'exponweib_expval',\n",
       " 'exponweib_like',\n",
       " 'extend_children',\n",
       " 'extend_dirichlet',\n",
       " 'extend_parents',\n",
       " 'flib',\n",
       " 'gamma_expval',\n",
       " 'gamma_grad_like',\n",
       " 'gamma_like',\n",
       " 'gammaln',\n",
       " 'gaussian_kde',\n",
       " 'gelman_rubin',\n",
       " 'geometric_expval',\n",
       " 'geometric_grad_like',\n",
       " 'geometric_like',\n",
       " 'get_threadpool_size',\n",
       " 'gev_expval',\n",
       " 'gev_like',\n",
       " 'geweke',\n",
       " 'gofwrapper',\n",
       " 'gp',\n",
       " 'graph',\n",
       " 'half_cauchy_expval',\n",
       " 'half_cauchy_like',\n",
       " 'half_normal_expval',\n",
       " 'half_normal_grad_like',\n",
       " 'half_normal_like',\n",
       " 'hypergeometric_expval',\n",
       " 'hypergeometric_like',\n",
       " 'hypot',\n",
       " 'iat',\n",
       " 'inf',\n",
       " 'inspect',\n",
       " 'inverse',\n",
       " 'inverse_gamma_expval',\n",
       " 'inverse_gamma_grad_like',\n",
       " 'inverse_gamma_like',\n",
       " 'invlogit',\n",
       " 'itertools',\n",
       " 'lam_dtrm',\n",
       " 'lambda_deterministic',\n",
       " 'laplace_expval',\n",
       " 'laplace_grad_like',\n",
       " 'laplace_like',\n",
       " 'late_mean',\n",
       " 'likelihoods',\n",
       " 'local_decorated_likelihoods',\n",
       " 'log',\n",
       " 'log1p',\n",
       " 'logistic_expval',\n",
       " 'logistic_like',\n",
       " 'logit',\n",
       " 'lognormal_expval',\n",
       " 'lognormal_grad_like',\n",
       " 'lognormal_like',\n",
       " 'logp_gradient',\n",
       " 'logp_gradient_of_set',\n",
       " 'logp_of_set',\n",
       " 'loss_functions',\n",
       " 'map_noreturn',\n",
       " 'mod_categorical_expval',\n",
       " 'mod_categorical_like',\n",
       " 'mod_multinom_like',\n",
       " 'mod_rmultinom',\n",
       " 'multinomial_expval',\n",
       " 'multinomial_like',\n",
       " 'multivariate_hypergeometric_expval',\n",
       " 'multivariate_hypergeometric_like',\n",
       " 'mv_continuous_distributions',\n",
       " 'mv_discrete_distributions',\n",
       " 'mv_nonnegative_distributions',\n",
       " 'mv_normal_chol_expval',\n",
       " 'mv_normal_chol_like',\n",
       " 'mv_normal_cov_expval',\n",
       " 'mv_normal_cov_like',\n",
       " 'mv_normal_expval',\n",
       " 'mv_normal_like',\n",
       " 'name',\n",
       " 'name_to_funcs',\n",
       " 'negative_binomial_expval',\n",
       " 'negative_binomial_grad_like',\n",
       " 'negative_binomial_like',\n",
       " 'new_dist_class',\n",
       " 'noncentral_t_expval',\n",
       " 'noncentral_t_like',\n",
       " 'nonconjugate_Gibbs_competence',\n",
       " 'normal_expval',\n",
       " 'normal_grad_like',\n",
       " 'normal_like',\n",
       " 'np',\n",
       " 'numpy',\n",
       " 'obj',\n",
       " 'observed',\n",
       " 'one_over_x_like',\n",
       " 'os',\n",
       " 'pareto_expval',\n",
       " 'pareto_like',\n",
       " 'pdb',\n",
       " 'pfunc',\n",
       " 'pi',\n",
       " 'pick_best_methods',\n",
       " 'poiscdf',\n",
       " 'poisson_expval',\n",
       " 'poisson_grad_like',\n",
       " 'poisson_like',\n",
       " 'pot',\n",
       " 'potential',\n",
       " 'ppp_value',\n",
       " 'print_',\n",
       " 'progressbar',\n",
       " 'pymc',\n",
       " 'raftery_lewis',\n",
       " 'randint',\n",
       " 'random_number',\n",
       " 'randomwrap',\n",
       " 'rarlognormal',\n",
       " 'rate',\n",
       " 'rbernoulli',\n",
       " 'rbeta',\n",
       " 'rbetabin',\n",
       " 'rbinomial',\n",
       " 'rcategorical',\n",
       " 'rcauchy',\n",
       " 'rchi2',\n",
       " 'rdegenerate',\n",
       " 'rdexponential',\n",
       " 'rdirichlet',\n",
       " 'rdiscrete_uniform',\n",
       " 'rexponential',\n",
       " 'rexponweib',\n",
       " 'rgamma',\n",
       " 'rgeometric',\n",
       " 'rgev',\n",
       " 'rhalf_cauchy',\n",
       " 'rhalf_normal',\n",
       " 'rhypergeometric',\n",
       " 'rinverse_gamma',\n",
       " 'rlaplace',\n",
       " 'rlogistic',\n",
       " 'rlognormal',\n",
       " 'rmod_categor',\n",
       " 'rmultinomial',\n",
       " 'rmultivariate_hypergeometric',\n",
       " 'rmv_normal',\n",
       " 'rmv_normal_chol',\n",
       " 'rmv_normal_cov',\n",
       " 'rnegative_binomial',\n",
       " 'rnoncentral_t',\n",
       " 'rnormal',\n",
       " 'robust_init',\n",
       " 'rpareto',\n",
       " 'rpoisson',\n",
       " 'rskew_normal',\n",
       " 'rt',\n",
       " 'rtruncated_normal',\n",
       " 'rtruncated_pareto',\n",
       " 'rtruncated_poisson',\n",
       " 'rtruncnorm',\n",
       " 'runiform',\n",
       " 'rvon_mises',\n",
       " 'rweibull',\n",
       " 'rwishart',\n",
       " 'rwishart_cov',\n",
       " 'sc_bool_distributions',\n",
       " 'sc_continuous_distributions',\n",
       " 'sc_discrete_distributions',\n",
       " 'sc_nonnegative_distributions',\n",
       " 'set_threadpool_size',\n",
       " 'sin',\n",
       " 'sinh',\n",
       " 'six',\n",
       " 'skew_normal_expval',\n",
       " 'skew_normal_like',\n",
       " 'snapshot',\n",
       " 'sqrt',\n",
       " 'squared_loss',\n",
       " 'standardize',\n",
       " 'stats',\n",
       " 'stoch',\n",
       " 'stochastic',\n",
       " 'stochastic_from_data',\n",
       " 'stochastic_from_dist',\n",
       " 'stukel_invlogit',\n",
       " 'stukel_logit',\n",
       " 'sum',\n",
       " 'switchpoint',\n",
       " 'sys',\n",
       " 't_expval',\n",
       " 't_grad_like',\n",
       " 't_grad_setup',\n",
       " 't_like',\n",
       " 't_normal_grad_mu',\n",
       " 't_normal_grad_tau',\n",
       " 't_normal_grad_x',\n",
       " 'tan',\n",
       " 'tanh',\n",
       " 'test',\n",
       " 'tests',\n",
       " 'thread_partition_array',\n",
       " 'threadpool',\n",
       " 'truncated_normal_expval',\n",
       " 'truncated_normal_like',\n",
       " 'truncated_pareto_expval',\n",
       " 'truncated_pareto_like',\n",
       " 'truncated_poisson_expval',\n",
       " 'truncated_poisson_grad_like',\n",
       " 'truncated_poisson_like',\n",
       " 'truncnorm_expval',\n",
       " 'truncnorm_like',\n",
       " 'types',\n",
       " 'uniform_expval',\n",
       " 'uniform_grad_like',\n",
       " 'uniform_like',\n",
       " 'uninformative_like',\n",
       " 'utils',\n",
       " 'validate',\n",
       " 'valuewrapper',\n",
       " 'von_mises_expval',\n",
       " 'von_mises_like',\n",
       " 'warnings',\n",
       " 'weibull_expval',\n",
       " 'weibull_grad_like',\n",
       " 'weibull_like',\n",
       " 'wishart_cov_expval',\n",
       " 'wishart_cov_like',\n",
       " 'wishart_expval',\n",
       " 'wishart_like',\n",
       " 'xrange']"
      ]
     },
     "execution_count": 81,
     "metadata": {},
     "output_type": "execute_result"
    }
   ],
   "source": [
    "disaster_model"
   ]
  },
  {
   "cell_type": "code",
   "execution_count": 34,
   "metadata": {
    "collapsed": false
   },
   "outputs": [
    {
     "name": "stdout",
     "output_type": "stream",
     "text": [
      "-0.0998965521487\n",
      "-0.0998965521487\n"
     ]
    }
   ],
   "source": [
    "print(disaster_model.late_mean.logp)\n",
    "re = disaster_model.late_mean.value\n",
    "print(np.log(1 * np.exp(-re*1)))"
   ]
  },
  {
   "cell_type": "code",
   "execution_count": 38,
   "metadata": {
    "collapsed": false
   },
   "outputs": [
    {
     "name": "stderr",
     "output_type": "stream",
     "text": [
      "/home/paulmartinposch/assignment1/.env/lib/python2.7/site-packages/ipykernel/__main__.py:3: DeprecationWarning: using a non-integer number instead of an integer will result in an error in the future\n",
      "  app.launch_new_instance()\n"
     ]
    }
   ],
   "source": [
    "out = np.empty(len(disasters_array))\n",
    "s = disaster_model.switchpoint\n",
    "out[:s] = 1"
   ]
  },
  {
   "cell_type": "code",
   "execution_count": 67,
   "metadata": {
    "collapsed": false
   },
   "outputs": [
    {
     "name": "stdout",
     "output_type": "stream",
     "text": [
      " [-----------------100%-----------------] 100000 of 100000 complete in 14.6 sec"
     ]
    }
   ],
   "source": [
    "from pymc.examples import disaster_model\n",
    "from pymc import MCMC\n",
    "M = MCMC(disaster_model)\n",
    "M.sample(iter=1e05, burn=1e03, thin=10)"
   ]
  },
  {
   "cell_type": "code",
   "execution_count": 82,
   "metadata": {
    "collapsed": false
   },
   "outputs": [
    {
     "name": "stdout",
     "output_type": "stream",
     "text": [
      "Plotting early_mean\n",
      "Plotting late_mean\n",
      "Plotting switchpoint\n"
     ]
    },
    {
     "data": {
      "image/png": "[encoded data removed]",
      "text/plain": [
       "<matplotlib.figure.Figure at 0x7efe47f36090>"
      ]
     },
     "metadata": {},
     "output_type": "display_data"
    },
    {
     "data": {
      "image/png": "[encoded data removed]",
      "text/plain": [
       "<matplotlib.figure.Figure at 0x7efe489e6090>"
      ]
     },
     "metadata": {},
     "output_type": "display_data"
    },
    {
     "data": {
      "image/png": "[encoded data removed]",
      "text/plain": [
       "<matplotlib.figure.Figure at 0x7efe47f63a10>"
      ]
     },
     "metadata": {},
     "output_type": "display_data"
    },
    {
     "data": {
      "image/png": "[encoded data removed]",
      "text/plain": [
       "<matplotlib.figure.Figure at 0x7efe46ff5e90>"
      ]
     },
     "metadata": {},
     "output_type": "display_data"
    }
   ],
   "source": [
    "from pylab import hist, show\n",
    "\n",
    "hist(M.trace('late_mean')[:])\n",
    "hist(M.trace('early_mean')[:])\n",
    "#hist(M.trace('disasters')[:])\n",
    "pymc.Matplot.plot(M)"
   ]
  },
  {
   "cell_type": "code",
   "execution_count": 66,
   "metadata": {
    "collapsed": false
   },
   "outputs": [
    {
     "data": {
      "text/plain": [
       "(900,)"
      ]
     },
     "execution_count": 66,
     "metadata": {},
     "output_type": "execute_result"
    }
   ],
   "source": [
    "M.trace('switchpoint')[:].shape"
   ]
  },
  {
   "cell_type": "code",
   "execution_count": 50,
   "metadata": {
    "collapsed": false
   },
   "outputs": [
    {
     "ename": "IndexError",
     "evalue": "list assignment index out of range",
     "output_type": "error",
     "traceback": [
      "\u001b[1;31m---------------------------------------------------------------------------\u001b[0m",
      "\u001b[1;31mIndexError\u001b[0m                                Traceback (most recent call last)",
      "\u001b[1;32m<ipython-input-50-4ac84606c179>\u001b[0m in \u001b[0;36m<module>\u001b[1;34m()\u001b[0m\n\u001b[1;32m----> 1\u001b[1;33m \u001b[0mplt\u001b[0m\u001b[1;33m.\u001b[0m\u001b[0mhist\u001b[0m\u001b[1;33m(\u001b[0m\u001b[0mM\u001b[0m\u001b[1;33m.\u001b[0m\u001b[0mtrace\u001b[0m\u001b[1;33m(\u001b[0m\u001b[1;34m'switchpoint'\u001b[0m\u001b[1;33m)\u001b[0m\u001b[1;33m[\u001b[0m\u001b[1;33m:\u001b[0m\u001b[1;33m]\u001b[0m\u001b[1;33m,\u001b[0m \u001b[0mbins\u001b[0m\u001b[1;33m=\u001b[0m\u001b[1;34m'auto'\u001b[0m\u001b[1;33m)\u001b[0m\u001b[1;33m\u001b[0m\u001b[0m\n\u001b[0m",
      "\u001b[1;32m/home/paulmartinposch/assignment1/.env/local/lib/python2.7/site-packages/matplotlib/pyplot.pyc\u001b[0m in \u001b[0;36mhist\u001b[1;34m(x, bins, range, normed, weights, cumulative, bottom, histtype, align, orientation, rwidth, log, color, label, stacked, hold, data, **kwargs)\u001b[0m\n\u001b[0;32m   3080\u001b[0m                       \u001b[0mhisttype\u001b[0m\u001b[1;33m=\u001b[0m\u001b[0mhisttype\u001b[0m\u001b[1;33m,\u001b[0m \u001b[0malign\u001b[0m\u001b[1;33m=\u001b[0m\u001b[0malign\u001b[0m\u001b[1;33m,\u001b[0m \u001b[0morientation\u001b[0m\u001b[1;33m=\u001b[0m\u001b[0morientation\u001b[0m\u001b[1;33m,\u001b[0m\u001b[1;33m\u001b[0m\u001b[0m\n\u001b[0;32m   3081\u001b[0m                       \u001b[0mrwidth\u001b[0m\u001b[1;33m=\u001b[0m\u001b[0mrwidth\u001b[0m\u001b[1;33m,\u001b[0m \u001b[0mlog\u001b[0m\u001b[1;33m=\u001b[0m\u001b[0mlog\u001b[0m\u001b[1;33m,\u001b[0m \u001b[0mcolor\u001b[0m\u001b[1;33m=\u001b[0m\u001b[0mcolor\u001b[0m\u001b[1;33m,\u001b[0m \u001b[0mlabel\u001b[0m\u001b[1;33m=\u001b[0m\u001b[0mlabel\u001b[0m\u001b[1;33m,\u001b[0m\u001b[1;33m\u001b[0m\u001b[0m\n\u001b[1;32m-> 3082\u001b[1;33m                       stacked=stacked, data=data, **kwargs)\n\u001b[0m\u001b[0;32m   3083\u001b[0m     \u001b[1;32mfinally\u001b[0m\u001b[1;33m:\u001b[0m\u001b[1;33m\u001b[0m\u001b[0m\n\u001b[0;32m   3084\u001b[0m         \u001b[0max\u001b[0m\u001b[1;33m.\u001b[0m\u001b[0m_hold\u001b[0m \u001b[1;33m=\u001b[0m \u001b[0mwashold\u001b[0m\u001b[1;33m\u001b[0m\u001b[0m\n",
      "\u001b[1;32m/home/paulmartinposch/assignment1/.env/local/lib/python2.7/site-packages/matplotlib/__init__.pyc\u001b[0m in \u001b[0;36minner\u001b[1;34m(ax, *args, **kwargs)\u001b[0m\n\u001b[0;32m   1890\u001b[0m                     warnings.warn(msg % (label_namer, func.__name__),\n\u001b[0;32m   1891\u001b[0m                                   RuntimeWarning, stacklevel=2)\n\u001b[1;32m-> 1892\u001b[1;33m             \u001b[1;32mreturn\u001b[0m \u001b[0mfunc\u001b[0m\u001b[1;33m(\u001b[0m\u001b[0max\u001b[0m\u001b[1;33m,\u001b[0m \u001b[1;33m*\u001b[0m\u001b[0margs\u001b[0m\u001b[1;33m,\u001b[0m \u001b[1;33m**\u001b[0m\u001b[0mkwargs\u001b[0m\u001b[1;33m)\u001b[0m\u001b[1;33m\u001b[0m\u001b[0m\n\u001b[0m\u001b[0;32m   1893\u001b[0m         \u001b[0mpre_doc\u001b[0m \u001b[1;33m=\u001b[0m \u001b[0minner\u001b[0m\u001b[1;33m.\u001b[0m\u001b[0m__doc__\u001b[0m\u001b[1;33m\u001b[0m\u001b[0m\n\u001b[0;32m   1894\u001b[0m         \u001b[1;32mif\u001b[0m \u001b[0mpre_doc\u001b[0m \u001b[1;32mis\u001b[0m \u001b[0mNone\u001b[0m\u001b[1;33m:\u001b[0m\u001b[1;33m\u001b[0m\u001b[0m\n",
      "\u001b[1;32m/home/paulmartinposch/assignment1/.env/local/lib/python2.7/site-packages/matplotlib/axes/_axes.pyc\u001b[0m in \u001b[0;36mhist\u001b[1;34m(self, x, bins, range, normed, weights, cumulative, bottom, histtype, align, orientation, rwidth, log, color, label, stacked, **kwargs)\u001b[0m\n\u001b[0;32m   6190\u001b[0m             \u001b[1;31m# this will automatically overwrite bins,\u001b[0m\u001b[1;33m\u001b[0m\u001b[1;33m\u001b[0m\u001b[0m\n\u001b[0;32m   6191\u001b[0m             \u001b[1;31m# so that each histogram uses the same bins\u001b[0m\u001b[1;33m\u001b[0m\u001b[1;33m\u001b[0m\u001b[0m\n\u001b[1;32m-> 6192\u001b[1;33m             \u001b[0mm\u001b[0m\u001b[1;33m,\u001b[0m \u001b[0mbins\u001b[0m \u001b[1;33m=\u001b[0m \u001b[0mnp\u001b[0m\u001b[1;33m.\u001b[0m\u001b[0mhistogram\u001b[0m\u001b[1;33m(\u001b[0m\u001b[0mx\u001b[0m\u001b[1;33m[\u001b[0m\u001b[0mi\u001b[0m\u001b[1;33m]\u001b[0m\u001b[1;33m,\u001b[0m \u001b[0mbins\u001b[0m\u001b[1;33m,\u001b[0m \u001b[0mweights\u001b[0m\u001b[1;33m=\u001b[0m\u001b[0mw\u001b[0m\u001b[1;33m[\u001b[0m\u001b[0mi\u001b[0m\u001b[1;33m]\u001b[0m\u001b[1;33m,\u001b[0m \u001b[1;33m**\u001b[0m\u001b[0mhist_kwargs\u001b[0m\u001b[1;33m)\u001b[0m\u001b[1;33m\u001b[0m\u001b[0m\n\u001b[0m\u001b[0;32m   6193\u001b[0m             \u001b[0mm\u001b[0m \u001b[1;33m=\u001b[0m \u001b[0mm\u001b[0m\u001b[1;33m.\u001b[0m\u001b[0mastype\u001b[0m\u001b[1;33m(\u001b[0m\u001b[0mfloat\u001b[0m\u001b[1;33m)\u001b[0m  \u001b[1;31m# causes problems later if it's an int\u001b[0m\u001b[1;33m\u001b[0m\u001b[0m\n\u001b[0;32m   6194\u001b[0m             \u001b[1;32mif\u001b[0m \u001b[0mmlast\u001b[0m \u001b[1;32mis\u001b[0m \u001b[0mNone\u001b[0m\u001b[1;33m:\u001b[0m\u001b[1;33m\u001b[0m\u001b[0m\n",
      "\u001b[1;32m/home/paulmartinposch/assignment1/.env/local/lib/python2.7/site-packages/numpy/lib/function_base.pyc\u001b[0m in \u001b[0;36mhistogram\u001b[1;34m(a, bins, range, normed, weights, density)\u001b[0m\n\u001b[0;32m    253\u001b[0m     \u001b[1;32melse\u001b[0m\u001b[1;33m:\u001b[0m\u001b[1;33m\u001b[0m\u001b[0m\n\u001b[0;32m    254\u001b[0m         \u001b[0mbins\u001b[0m \u001b[1;33m=\u001b[0m \u001b[0masarray\u001b[0m\u001b[1;33m(\u001b[0m\u001b[0mbins\u001b[0m\u001b[1;33m)\u001b[0m\u001b[1;33m\u001b[0m\u001b[0m\n\u001b[1;32m--> 255\u001b[1;33m         \u001b[1;32mif\u001b[0m \u001b[1;33m(\u001b[0m\u001b[0mnp\u001b[0m\u001b[1;33m.\u001b[0m\u001b[0mdiff\u001b[0m\u001b[1;33m(\u001b[0m\u001b[0mbins\u001b[0m\u001b[1;33m)\u001b[0m \u001b[1;33m<\u001b[0m \u001b[1;36m0\u001b[0m\u001b[1;33m)\u001b[0m\u001b[1;33m.\u001b[0m\u001b[0many\u001b[0m\u001b[1;33m(\u001b[0m\u001b[1;33m)\u001b[0m\u001b[1;33m:\u001b[0m\u001b[1;33m\u001b[0m\u001b[0m\n\u001b[0m\u001b[0;32m    256\u001b[0m             raise AttributeError(\n\u001b[0;32m    257\u001b[0m                 'bins must increase monotonically.')\n",
      "\u001b[1;32m/home/paulmartinposch/assignment1/.env/local/lib/python2.7/site-packages/numpy/lib/function_base.pyc\u001b[0m in \u001b[0;36mdiff\u001b[1;34m(a, n, axis)\u001b[0m\n\u001b[0;32m   1166\u001b[0m     \u001b[0mslice1\u001b[0m \u001b[1;33m=\u001b[0m \u001b[1;33m[\u001b[0m\u001b[0mslice\u001b[0m\u001b[1;33m(\u001b[0m\u001b[0mNone\u001b[0m\u001b[1;33m)\u001b[0m\u001b[1;33m]\u001b[0m\u001b[1;33m*\u001b[0m\u001b[0mnd\u001b[0m\u001b[1;33m\u001b[0m\u001b[0m\n\u001b[0;32m   1167\u001b[0m     \u001b[0mslice2\u001b[0m \u001b[1;33m=\u001b[0m \u001b[1;33m[\u001b[0m\u001b[0mslice\u001b[0m\u001b[1;33m(\u001b[0m\u001b[0mNone\u001b[0m\u001b[1;33m)\u001b[0m\u001b[1;33m]\u001b[0m\u001b[1;33m*\u001b[0m\u001b[0mnd\u001b[0m\u001b[1;33m\u001b[0m\u001b[0m\n\u001b[1;32m-> 1168\u001b[1;33m     \u001b[0mslice1\u001b[0m\u001b[1;33m[\u001b[0m\u001b[0maxis\u001b[0m\u001b[1;33m]\u001b[0m \u001b[1;33m=\u001b[0m \u001b[0mslice\u001b[0m\u001b[1;33m(\u001b[0m\u001b[1;36m1\u001b[0m\u001b[1;33m,\u001b[0m \u001b[0mNone\u001b[0m\u001b[1;33m)\u001b[0m\u001b[1;33m\u001b[0m\u001b[0m\n\u001b[0m\u001b[0;32m   1169\u001b[0m     \u001b[0mslice2\u001b[0m\u001b[1;33m[\u001b[0m\u001b[0maxis\u001b[0m\u001b[1;33m]\u001b[0m \u001b[1;33m=\u001b[0m \u001b[0mslice\u001b[0m\u001b[1;33m(\u001b[0m\u001b[0mNone\u001b[0m\u001b[1;33m,\u001b[0m \u001b[1;33m-\u001b[0m\u001b[1;36m1\u001b[0m\u001b[1;33m)\u001b[0m\u001b[1;33m\u001b[0m\u001b[0m\n\u001b[0;32m   1170\u001b[0m     \u001b[0mslice1\u001b[0m \u001b[1;33m=\u001b[0m \u001b[0mtuple\u001b[0m\u001b[1;33m(\u001b[0m\u001b[0mslice1\u001b[0m\u001b[1;33m)\u001b[0m\u001b[1;33m\u001b[0m\u001b[0m\n",
      "\u001b[1;31mIndexError\u001b[0m: list assignment index out of range"
     ]
    },
    {
     "data": {
      "image/png": "[encoded data removed]",
      "text/plain": [
       "<matplotlib.figure.Figure at 0x7efe4b86e610>"
      ]
     },
     "metadata": {},
     "output_type": "display_data"
    }
   ],
   "source": [
    "plt.hist(M.trace('switchpoint')[:], bins='auto')"
   ]
  }
 ],
 "metadata": {
  "kernelspec": {
   "display_name": "Python 2",
   "language": "python",
   "name": "python2"
  },
  "language_info": {
   "codemirror_mode": {
    "name": "ipython",
    "version": 2
   },
   "file_extension": ".py",
   "mimetype": "text/x-python",
   "name": "python",
   "nbconvert_exporter": "python",
   "pygments_lexer": "ipython2",
   "version": "2.7.12"
  }
 },
 "nbformat": 4,
 "nbformat_minor": 0
}
